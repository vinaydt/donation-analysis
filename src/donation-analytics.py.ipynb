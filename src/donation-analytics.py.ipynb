{
 "cells": [
  {
   "cell_type": "code",
   "execution_count": 680,
   "metadata": {
    "collapsed": true
   },
   "outputs": [],
   "source": [
    "import pandas as pd\n",
    "import numpy as np"
   ]
  },
  {
   "cell_type": "code",
   "execution_count": 681,
   "metadata": {
    "collapsed": true
   },
   "outputs": [],
   "source": [
    "name = ['CMTE_ID','AMNDT_IND','RPT_TP','TRANSACTION_PGI','IMAGE_NUM','TRANSACTION_TP','ENTITY_TP','NAME','CITY','STATE',\n",
    "         'ZIP_CODE','EMPLOYER','OCCUPATION','TRANSACTION_DT','TRANSACTION_AMT','OTHER_ID','TRAN_ID','FILE_NUM','MEMO_CD','MEMO_TEXT',\n",
    "         'SUB_ID']"
   ]
  },
  {
   "cell_type": "code",
   "execution_count": 683,
   "metadata": {
    "collapsed": false
   },
   "outputs": [],
   "source": [
    "dataset=pd.read_csv(\"../input/itcont.txt\",delimiter=\"|\",names=name, dtype=str)"
   ]
  },
  {
   "cell_type": "code",
   "execution_count": 684,
   "metadata": {
    "collapsed": true
   },
   "outputs": [],
   "source": [
    "theFile = open(\"../input/percentile.txt\", \"r\")\n",
    "percentile = []\n",
    "for val in theFile.read().split():\n",
    "    percentile.append(float(val))\n",
    "theFile.close()"
   ]
  },
  {
   "cell_type": "code",
   "execution_count": 685,
   "metadata": {
    "collapsed": true
   },
   "outputs": [],
   "source": [
    "kthpercentile = percentile[0]"
   ]
  },
  {
   "cell_type": "code",
   "execution_count": 686,
   "metadata": {
    "collapsed": false
   },
   "outputs": [],
   "source": [
    "reatainNames = ['CMTE_ID','NAME','ZIP_CODE','TRANSACTION_DT','TRANSACTION_AMT','OTHER_ID']\n"
   ]
  },
  {
   "cell_type": "code",
   "execution_count": 687,
   "metadata": {
    "collapsed": true
   },
   "outputs": [],
   "source": [
    "dataset = dataset[reatainNames]"
   ]
  },
  {
   "cell_type": "code",
   "execution_count": 692,
   "metadata": {
    "collapsed": false
   },
   "outputs": [],
   "source": [
    "def processDataSet(data):\n",
    "    data = data[data['OTHER_ID'].isnull()]\n",
    "    data = data[data['CMTE_ID'].notnull()]\n",
    "    data = data[data['TRANSACTION_AMT'].notnull()]\n",
    "    data = data[data['ZIP_CODE'].str.len() >= 5]\n",
    "    data = data[data['TRANSACTION_DT'].notnull()]\n",
    "    data = data[data['TRANSACTION_DT'].str.len() == 8]\n",
    "    data = data[data['NAME'].notnull()]\n",
    "    data['ZIP_CODE_5'] =  data['ZIP_CODE'].str[:5]\n",
    "    data['YEAR'] = data['TRANSACTION_DT'].str[4:]\n",
    "    return data"
   ]
  },
  {
   "cell_type": "code",
   "execution_count": 693,
   "metadata": {
    "collapsed": false
   },
   "outputs": [],
   "source": [
    "dataset = processDataSet(dataset)"
   ]
  },
  {
   "cell_type": "code",
   "execution_count": 694,
   "metadata": {
    "collapsed": false
   },
   "outputs": [
    {
     "data": {
      "text/html": [
       "<div>\n",
       "<style>\n",
       "    .dataframe thead tr:only-child th {\n",
       "        text-align: right;\n",
       "    }\n",
       "\n",
       "    .dataframe thead th {\n",
       "        text-align: left;\n",
       "    }\n",
       "\n",
       "    .dataframe tbody tr th {\n",
       "        vertical-align: top;\n",
       "    }\n",
       "</style>\n",
       "<table border=\"1\" class=\"dataframe\">\n",
       "  <thead>\n",
       "    <tr style=\"text-align: right;\">\n",
       "      <th></th>\n",
       "      <th>CMTE_ID</th>\n",
       "      <th>NAME</th>\n",
       "      <th>ZIP_CODE</th>\n",
       "      <th>TRANSACTION_DT</th>\n",
       "      <th>TRANSACTION_AMT</th>\n",
       "      <th>OTHER_ID</th>\n",
       "      <th>ZIP_CODE_5</th>\n",
       "      <th>YEAR</th>\n",
       "    </tr>\n",
       "  </thead>\n",
       "  <tbody>\n",
       "    <tr>\n",
       "      <th>0</th>\n",
       "      <td>C00384516</td>\n",
       "      <td>SABOURIN, JOE</td>\n",
       "      <td>028956146</td>\n",
       "      <td>01312016</td>\n",
       "      <td>484</td>\n",
       "      <td>NaN</td>\n",
       "      <td>02895</td>\n",
       "      <td>2016</td>\n",
       "    </tr>\n",
       "    <tr>\n",
       "      <th>1</th>\n",
       "      <td>C00384515</td>\n",
       "      <td>SABOURIN, JOE</td>\n",
       "      <td>028956146</td>\n",
       "      <td>01312015</td>\n",
       "      <td>384</td>\n",
       "      <td>NaN</td>\n",
       "      <td>02895</td>\n",
       "      <td>2015</td>\n",
       "    </tr>\n",
       "    <tr>\n",
       "      <th>2</th>\n",
       "      <td>C00384516</td>\n",
       "      <td>SABOURIN, JOE</td>\n",
       "      <td>028956146</td>\n",
       "      <td>01312017</td>\n",
       "      <td>230</td>\n",
       "      <td>NaN</td>\n",
       "      <td>02895</td>\n",
       "      <td>2017</td>\n",
       "    </tr>\n",
       "    <tr>\n",
       "      <th>3</th>\n",
       "      <td>C00384514</td>\n",
       "      <td>BSV</td>\n",
       "      <td>028956146</td>\n",
       "      <td>01312017</td>\n",
       "      <td>230</td>\n",
       "      <td>NaN</td>\n",
       "      <td>02895</td>\n",
       "      <td>2017</td>\n",
       "    </tr>\n",
       "    <tr>\n",
       "      <th>4</th>\n",
       "      <td>C00384516</td>\n",
       "      <td>BSV</td>\n",
       "      <td>028956146</td>\n",
       "      <td>01312017</td>\n",
       "      <td>230</td>\n",
       "      <td>NaN</td>\n",
       "      <td>02895</td>\n",
       "      <td>2017</td>\n",
       "    </tr>\n",
       "  </tbody>\n",
       "</table>\n",
       "</div>"
      ],
      "text/plain": [
       "     CMTE_ID           NAME   ZIP_CODE TRANSACTION_DT TRANSACTION_AMT  \\\n",
       "0  C00384516  SABOURIN, JOE  028956146       01312016             484   \n",
       "1  C00384515  SABOURIN, JOE  028956146       01312015             384   \n",
       "2  C00384516  SABOURIN, JOE  028956146       01312017             230   \n",
       "3  C00384514            BSV  028956146       01312017             230   \n",
       "4  C00384516            BSV  028956146       01312017             230   \n",
       "\n",
       "  OTHER_ID ZIP_CODE_5  YEAR  \n",
       "0      NaN      02895  2016  \n",
       "1      NaN      02895  2015  \n",
       "2      NaN      02895  2017  \n",
       "3      NaN      02895  2017  \n",
       "4      NaN      02895  2017  "
      ]
     },
     "execution_count": 694,
     "metadata": {},
     "output_type": "execute_result"
    }
   ],
   "source": [
    "#dataset.head(15)"
   ]
  },
  {
   "cell_type": "code",
   "execution_count": 695,
   "metadata": {
    "collapsed": true
   },
   "outputs": [],
   "source": [
    "def percentile(contributions):\n",
    "    return np.percentile(contributions, kthpercentile, interpolation='nearest')"
   ]
  },
  {
   "cell_type": "code",
   "execution_count": 696,
   "metadata": {
    "collapsed": true
   },
   "outputs": [],
   "source": [
    "def assignCurrentVariables(row):\n",
    "    currentYear = row['YEAR']\n",
    "    currentZipCode = row['ZIP_CODE_5']\n",
    "    currentRecepient = row['CMTE_ID']\n",
    "    assigned = True;\n",
    "    return currentYear, currentZipCode, currentRecepient, assigned"
   ]
  },
  {
   "cell_type": "code",
   "execution_count": 698,
   "metadata": {
    "collapsed": false
   },
   "outputs": [],
   "source": [
    "currentYear = None\n",
    "currentZipCode = None\n",
    "currentRecepient = None\n",
    "assigned = False;\n",
    "\n",
    "totalNoOfTransactionsReceived = 0;\n",
    "totalAmountContributions = 0;\n",
    "contributions =[]\n",
    "\n",
    "dictionary = dict()\n",
    "\n",
    "file = open(\"../output/repeat_donors.txt\",\"w\") \n",
    "\n",
    "for index, row in dataset.iterrows():\n",
    "    key = row['NAME'] + row['ZIP_CODE_5']\n",
    "    if key in dictionary:\n",
    "        if(int(row['YEAR'])> dictionary[key] and assigned==False):\n",
    "            currentYear, currentZipCode, currentRecepient,assigned =  assignCurrentVariables(row)\n",
    "        if(row['YEAR']==currentYear and row['ZIP_CODE_5']==currentZipCode and row['CMTE_ID']==currentRecepient):\n",
    "            totalNoOfTransactionsReceived += 1;\n",
    "            totalAmountContributions +=  int(row['TRANSACTION_AMT'])\n",
    "            contributions.append(int(row['TRANSACTION_AMT']))\n",
    "            file.write(row['CMTE_ID']+\"|\"+row['ZIP_CODE_5']+\"|\"+row['YEAR']+\"|\"+str(percentile(contributions))+\"|\"+\n",
    "                      str(totalAmountContributions)+\"|\"+str(totalNoOfTransactionsReceived)+\"\\n\")\n",
    "    else:\n",
    "        dictionary[key] = int(row['YEAR'])\n",
    "file.close()\n",
    "    \n",
    "        \n",
    "        \n",
    "    "
   ]
  },
  {
   "cell_type": "code",
   "execution_count": null,
   "metadata": {
    "collapsed": true
   },
   "outputs": [],
   "source": []
  }
 ],
 "metadata": {
  "kernelspec": {
   "display_name": "Python [conda root]",
   "language": "python",
   "name": "conda-root-py"
  },
  "language_info": {
   "codemirror_mode": {
    "name": "ipython",
    "version": 2
   },
   "file_extension": ".py",
   "mimetype": "text/x-python",
   "name": "python",
   "nbconvert_exporter": "python",
   "pygments_lexer": "ipython2",
   "version": "2.7.12"
  }
 },
 "nbformat": 4,
 "nbformat_minor": 1
}
